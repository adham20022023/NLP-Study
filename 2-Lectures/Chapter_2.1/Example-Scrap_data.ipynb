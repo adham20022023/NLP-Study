{
 "cells": [
  {
   "cell_type": "code",
   "execution_count": 5,
   "id": "fc52656d",
   "metadata": {},
   "outputs": [
    {
     "name": "stdout",
     "output_type": "stream",
     "text": [
      "Title: مقالة عن حب مصر - موضوع\n",
      "Paragraphs: ['تمت الكتابة بواسطة: فاطمة مشعلة', 'آخر تحديث: ١٣:٠٤ ، ٢٥ سبتمبر ٢٠١٦', 'مصرُ هي أُمُّ الحضاراتِ و أُمُّ الدنيا و بلدُ الأهرامات، هي ألقابٌ كثيرةٌ أطلقَها الناسُ في العالمِ والوطن العربيّ على مصر التي تقعُ شمالَ شرق قارة أفريقيا، وتعتبرُ قامةً شامخة عندَ الشعوبِ العربيّة، فلا يمكنُ لأحدٍ أو مُتجرّئ أن يتخيّلَ الوطنَ العربيَّ من مشرقِه إلى مغربِه دونَ مصر وشعبها العظيم، ففي مصر قامت أقدمُ الحضارات على ضفافِ النيل، وفي مقالنا هذا سنتحدث عن حُبّ مصر.\\n', '', 'أصبح حُبُّ مصرَ أمراً فطريّاً لدى كلّ عربي ولم يأتِ هذا الأمر من فراغ؛ فهي ولّادة الرجال؛ حيثُ أنجبت العديدَ من رجال الثورة الذين تغنّى بهم التاريخ كسعد زغلول وأحمد عرابي الذي قاد ثورةً ضدّ الخديوي توفيق، كما احتضنتْ عملاقة الغناء العربيّ كوكب الشرق أمّ كلثوم، ولفيفاً من أهلِ الطرب والفنّ كالموسيقار الكبير محمد عبد الوهاب، والموسيقار عمار الشريعي، والملحّنين رياض السمباطي وبليغ حمدي الذي قالَ عنه النقاد بأنّه أعظمُ ملحّنٍ مَرّ على مصر؛ وذلك بسببِ مهارتِه العالية في التلحين والتأليف الموسيقيّ، وحريّاً بكلّ عربي أن يرفع رأسه مفتخراً بعروبة مصر.\\n', '\\nهناك العديدُ من نجومِ العلوم والفكر الذين خرجوا منها؛ كالعالم المصريّ الراحل الذي حازَ على جائزة نوبل في الكيمياء أحمد زويل، وعالم الفلك المصريّ فاروق الباز الذي يعملُ مُدرّساً في إحدى الجامعاتِ الأمريكيّة، كما أنّه عضوٌ أساسيّ في وكالةِ الفضاء الأمريكية (ناسا)، كما أنّ بساطةَ أهلِ مصر وعفويّة تعاملهم وملاحة ما يقولون جعل منهم شعباً عربيّاً محبوباً.\\n', '', 'مَنْ يُحبّ مصرَ يسعى للحفاظ على أمنِها وكرامة شعبها، ويحاولُ أن يُقدّم العون لشبابها للحصول على فرصة عمل كريمة، ويربي أطفاله على حبها منذ الصغر؛ وذلك بضرورةِ التعلّم لأجل خدمتِها وتطوير اقتصادها وصناعاتها، ولا يكونُ حُبّ مصر بالكلمات إنما بالفعل؛ فعلى الوالدين أن يربّوا أولادهم على هذا المفهوم منذ نعومة أظافرهم؛ وليس عيباً أن تقومَ الأم بسردِ الحكايات والقصص التي تحكي عن مصر وبطولة أبنائها وكفاحهم على مر السنين.\\n', '', 'تعتبرُ مِصرُ حاضنةً للموهوبين العرب فنياً منذ القِدم وحتى الآن فهي (هوليوود الشرق)؛ كبرت فيها السينما العربيّة وتطوّرت، وترعرت فيها أجيالٌ من الفنانين المصريّين والعرب على حدٍّ سواء؛ كالفنانة اللبنانيّة صباح التي منحها الرئيس أنور السادات الجنسيّة المصرية، والممثلة المصرية رغدة، والفنانة أسمهان، وأخيها فريد الأطرش اللذين عذبتهما ظروف العيش في جبل السويداء بسوريا، حتى لجأت بهما أمهما علياء المنذر إلى مصر، وهناك العديد من الأسماء التي ما زالت حتى اليوم تدينُ لمصرَ بصنعِ نجوميّتها وفتح درب الشهرة والنجاح أمامها، ونجد الكثيرين على شاشة التلفزة في أحاديثهم الصحفيّة يختمون عبارة شكرهم لمصر بقول: \"مين فينا يقدر ميحبش مصر\"، فيما تُقال عبارة \"مشربتش من نيلها\" لمن يبدو عليه نكرانُ جميلِها وعظمتِها.\\n', '\\r\\n                                        تم الإرسال بنجاح، شكراً لك!\\r\\n                                    ', 'جميع الحقوق محفوظة ©\\n                                موضوع 2023', 'جميع الحقوق محفوظة ©\\n                                موضوع 2023']\n"
     ]
    }
   ],
   "source": [
    "import requests\n",
    "from bs4 import BeautifulSoup\n",
    "\n",
    "url = \"https://mawdoo3.com/%D9%85%D9%82%D8%A7%D9%84%D8%A9_%D8%B9%D9%86_%D8%AD%D8%A8_%D9%85%D8%B5%D8%B1\"\n",
    "response = requests.get(url)\n",
    "\n",
    "soup = BeautifulSoup(response.content, \"html.parser\")\n",
    "\n",
    "# Find the title of the page\n",
    "title = soup.title.string\n",
    "print(\"Title:\", title)\n",
    "\n",
    "# Find all the links on the page\n",
    "links = []\n",
    "for link in soup.find_all(\"a\"):\n",
    "    links.append(link.get(\"href\"))\n",
    "#print(\"Links:\", links)\n",
    "\n",
    "# Find all the paragraphs on the page\n",
    "paragraphs = []\n",
    "for p in soup.find_all(\"p\"):\n",
    "    paragraphs.append(p.get_text())\n",
    "print(\"Paragraphs:\", paragraphs)\n",
    "\n",
    "# Save the scraped data to a file\n",
    "with open(\"scraped_data.txt\", \"w\", encoding=\"utf-8\") as f:\n",
    "    f.write(\"Title: {}\\n\\n\".format(title))\n",
    "    f.write(\"Links: {}\\n\\n\".format(links))\n",
    "    f.write(\"Paragraphs: {}\\n\\n\".format(paragraphs))"
   ]
  },
  {
   "cell_type": "code",
   "execution_count": null,
   "id": "74c52fce",
   "metadata": {},
   "outputs": [],
   "source": []
  }
 ],
 "metadata": {
  "kernelspec": {
   "display_name": "Python 3 (ipykernel)",
   "language": "python",
   "name": "python3"
  },
  "language_info": {
   "codemirror_mode": {
    "name": "ipython",
    "version": 3
   },
   "file_extension": ".py",
   "mimetype": "text/x-python",
   "name": "python",
   "nbconvert_exporter": "python",
   "pygments_lexer": "ipython3",
   "version": "3.9.13"
  },
  "toc": {
   "base_numbering": 1,
   "nav_menu": {},
   "number_sections": true,
   "sideBar": true,
   "skip_h1_title": false,
   "title_cell": "Table of Contents",
   "title_sidebar": "Contents",
   "toc_cell": false,
   "toc_position": {},
   "toc_section_display": true,
   "toc_window_display": false
  },
  "varInspector": {
   "cols": {
    "lenName": 16,
    "lenType": 16,
    "lenVar": 40
   },
   "kernels_config": {
    "python": {
     "delete_cmd_postfix": "",
     "delete_cmd_prefix": "del ",
     "library": "var_list.py",
     "varRefreshCmd": "print(var_dic_list())"
    },
    "r": {
     "delete_cmd_postfix": ") ",
     "delete_cmd_prefix": "rm(",
     "library": "var_list.r",
     "varRefreshCmd": "cat(var_dic_list()) "
    }
   },
   "types_to_exclude": [
    "module",
    "function",
    "builtin_function_or_method",
    "instance",
    "_Feature"
   ],
   "window_display": false
  }
 },
 "nbformat": 4,
 "nbformat_minor": 5
}
